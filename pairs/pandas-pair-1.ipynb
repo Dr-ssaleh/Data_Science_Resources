{
 "cells": [
  {
   "cell_type": "markdown",
   "metadata": {
    "id": "T46-sOGWK_0g"
   },
   "source": [
    "# Problem 1\n",
    "\n",
    "- Open up a new IPython notebook\n",
    "- Download [iris dataset](https://www.kaggle.com/uciml/iris/) \n",
    "- Load it in Pandas (hint: `pd.read_csv()` to load data)"
   ]
  },
  {
   "cell_type": "markdown",
   "metadata": {},
   "source": [
    "# Problem 2\n",
    "\n",
    "- What's the shape of  the iris dataset?\n",
    "- Check if the data has missing values (hint: `.isna()` to check missing)\n",
    "- Count how many samples in each species? (hint: use [.value_counts()](http://pandas.pydata.org/pandas-docs/stable/generated/pandas.Series.value_counts.html) to count data in each group)"
   ]
  },
  {
   "cell_type": "markdown",
   "metadata": {},
   "source": [
    "# Problem 3\n",
    "\n",
    "- Create a new column called `sepal_ratio` which is equal to sepal width / sepal length\n",
    "\n",
    "\n",
    "- Create a similar column called `petal_ratio` which is equal to petal width / petal length\n",
    "\n",
    "\n",
    "- Create 4 columns that correspond to `sepal length (cm)`, `sepal width (cm)`, `petal length (cm)`, and `petal width (cm)`, only in inches. (hint: 1 cm = 0.3937 inches)"
   ]
  },
  {
   "cell_type": "markdown",
   "metadata": {},
   "source": [
    "# Problem 4\n",
    "\n",
    "- Encode `species` column into numbers\n",
    "\n",
    "Hint:\n",
    "- Create a dictinary \n",
    "```\n",
    "   setosa     : 0 \n",
    "   versicolor : 1 \n",
    "   virginica  : 2\n",
    "```\n",
    "- use `.map()` to do the mapping.\n"
   ]
  }
 ],
 "metadata": {
  "anaconda-cloud": {},
  "colab": {
   "name": "Pandas Pair-1 with  Solutions.ipynb",
   "provenance": []
  },
  "kernelspec": {
   "display_name": "Python 3",
   "language": "python",
   "name": "python3"
  },
  "language_info": {
   "codemirror_mode": {
    "name": "ipython",
    "version": 3
   },
   "file_extension": ".py",
   "mimetype": "text/x-python",
   "name": "python",
   "nbconvert_exporter": "python",
   "pygments_lexer": "ipython3",
   "version": "3.7.10"
  }
 },
 "nbformat": 4,
 "nbformat_minor": 1
}
